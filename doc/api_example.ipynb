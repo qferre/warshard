{
 "cells": [
  {
   "cell_type": "markdown",
   "metadata": {},
   "source": [
    "# API example"
   ]
  },
  {
   "cell_type": "markdown",
   "metadata": {},
   "source": [
    "## Creating a game\n",
    "\n",
    "Creating a game and loading a scenario from a YAML file."
   ]
  },
  {
   "cell_type": "code",
   "execution_count": null,
   "metadata": {},
   "outputs": [],
   "source": [
    "from warshard.game import Game\n",
    "\n",
    "game = Game()"
   ]
  },
  {
   "cell_type": "markdown",
   "metadata": {},
   "source": [
    "## Running a game\n",
    "\n",
    "There are two main ways to run a game : either by running entire turns at once, or individual phases of the turns.\n",
    "\n",
    "The main interface is the Orders list.\n",
    "\n",
    "You create a list of Orders, like this, and then pass them to the turn functions. The game will then attempt to execute the orders.\n",
    "\n",
    "\n",
    "### Order list\n",
    "\n",
    "Explain what an order is, what a putative order is"
   ]
  },
  {
   "cell_type": "code",
   "execution_count": null,
   "metadata": {},
   "outputs": [],
   "source": []
  },
  {
   "cell_type": "markdown",
   "metadata": {},
   "source": [
    "\n",
    "\n",
    "\n",
    "### Example\n",
    "\n",
    "#### Entire turn\n",
    "\n",
    "Show order lists being passed to run a turn\n"
   ]
  },
  {
   "cell_type": "code",
   "execution_count": null,
   "metadata": {},
   "outputs": [],
   "source": []
  },
  {
   "cell_type": "markdown",
   "metadata": {},
   "source": [
    "\n",
    "#### Individual phases\n",
    "\n",
    "Show order lists being passed to run individual phases"
   ]
  },
  {
   "cell_type": "code",
   "execution_count": null,
   "metadata": {},
   "outputs": [],
   "source": []
  },
  {
   "cell_type": "markdown",
   "metadata": {},
   "source": [
    "## Debug\n",
    "\n",
    "Where to look : objects such as game.map give the info you need\n",
    "\n",
    "Also debug commands to give individual orders, spawn and move units, etc."
   ]
  },
  {
   "cell_type": "code",
   "execution_count": null,
   "metadata": {},
   "outputs": [],
   "source": [
    "game.map"
   ]
  }
 ],
 "metadata": {
  "language_info": {
   "name": "python"
  }
 },
 "nbformat": 4,
 "nbformat_minor": 2
}
