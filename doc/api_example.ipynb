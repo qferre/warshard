{
 "cells": [
  {
   "cell_type": "markdown",
   "metadata": {},
   "source": [
    "# API example"
   ]
  },
  {
   "cell_type": "markdown",
   "metadata": {},
   "source": [
    "## Creating a game\n",
    "\n",
    "Creating a game and loading a scenario from a YAML file."
   ]
  },
  {
   "cell_type": "code",
   "execution_count": null,
   "metadata": {},
   "outputs": [],
   "source": [
    "from warshard.game import Game\n",
    "\n",
    "game = Game(\n",
    "    headless = True # If false, another thread is launched which displays the gamestate using pygame\n",
    "    log_file_path\n",
    ")"
   ]
  },
  {
   "cell_type": "markdown",
   "metadata": {},
   "source": [
    "## Running a game\n",
    "\n",
    "There are two main ways to run a game : either by running entire turns at once, or individual phases of the turns.\n",
    "\n",
    "The main interface is the Orders list.\n",
    "\n",
    "You create a list of Orders, like this, and then pass them to the turn functions. The game will then attempt to execute the orders.\n",
    "\n",
    "\n",
    "### Order list\n",
    "\n",
    "Explain what an order is, what a putative order is\n",
    "\n",
    "- You can and should give multiple orders fo the same units to be executed in sequence for the movement. For example : if you want to move unit 6 from hex 1,2 to hex 1,5, you need to write three move orders IN THE CORRECT ORDER FOR THE SAME UNIT : \"6 move to 1,3\" then \"6 move to 1,4\" then \"6 move to 1,5\" and those must be IN THE CORRECT ORDER in the pending_orders list, since we execute orders in a FIFO fashion\n",
    "\n",
    "- Putative orders are orders that will only be executed when checking for retreats or advances (after a fight in both case.) Putative orders cover both advance and retreats, and are also FIFO\n",
    "\n",
    "- Orders do not need to be differentiated by type : for instance, an Order will be interpreted a movement if the target hex is empty, or as combat if it contains an enemy."
   ]
  },
  {
   "cell_type": "code",
   "execution_count": null,
   "metadata": {},
   "outputs": [],
   "source": []
  },
  {
   "cell_type": "markdown",
   "metadata": {},
   "source": [
    "\n",
    "\n",
    "\n",
    "### Example\n",
    "\n",
    "#### Entire turn\n",
    "\n",
    "Show order lists being passed to run a turn\n"
   ]
  },
  {
   "cell_type": "code",
   "execution_count": null,
   "metadata": {},
   "outputs": [],
   "source": [
    "from warshard.actions import Order\n",
    "\n",
    "pending_orders = [\n",
    "    Order(unit_id=1, hex_x=3, hex_y=4, map=game.map),\n",
    "    Order(unit_id=1, hex_x=4, hex_y=4, map=game.map),\n",
    "    # etc.\n",
    "]"
   ]
  },
  {
   "cell_type": "code",
   "execution_count": null,
   "metadata": {},
   "outputs": [],
   "source": [
    "game.run_a_turn(pending_orders)"
   ]
  },
  {
   "cell_type": "markdown",
   "metadata": {},
   "source": [
    "\n",
    "#### Individual phases\n",
    "\n",
    "Show order lists being passed to run individual phases.\n",
    "\n",
    "the run_a_turn function does little more than run each of these in order. If you want more granularity, you can. Look at the source code."
   ]
  },
  {
   "cell_type": "code",
   "execution_count": null,
   "metadata": {},
   "outputs": [],
   "source": []
  },
  {
   "cell_type": "markdown",
   "metadata": {},
   "source": [
    "## Debug\n",
    "\n",
    "Where to look : objects such as game.map give the info you need. You can use this to read the map/gamestate and even modify it, it is accessible\n",
    "\n",
    "Also debug commands to give individual orders, spawn and move units, etc.\n",
    "There are also functions that give individual orders (ie. start a fight here, etc.) so the simulation can be run with granulatiry in  a notebook, as if we were playing.  But in general you want to try to use run_a_turn as much as possible."
   ]
  },
  {
   "cell_type": "code",
   "execution_count": null,
   "metadata": {},
   "outputs": [],
   "source": [
    "game.map "
   ]
  },
  {
   "cell_type": "markdown",
   "metadata": {},
   "source": [
    "## Developing an AI\n",
    "\n",
    "Example of a recommended setup for AI development"
   ]
  },
  {
   "cell_type": "code",
   "execution_count": null,
   "metadata": {},
   "outputs": [],
   "source": [
    "class StupidAI:\n",
    "    \"\"\"Simple example of a stupid AI\n",
    "    \"\"\"\n",
    "\n",
    "    def __call__(gamestate_representation) -> list[Order]:\n",
    "        raise NotImplementedError\n",
    "        closest_vp = ... # Find the closest victory point to my position\n",
    "        my_orders = [...] # Issue orders in a straight line towards it\n",
    "        return my_orders\n",
    "\n",
    "my_custom_ai_agent = StupidAI()"
   ]
  },
  {
   "cell_type": "code",
   "execution_count": null,
   "metadata": {},
   "outputs": [],
   "source": [
    "# Read the gamestate according to your desires and constraits (what do you allow the AI algorithm to know ? what representation does it need ?)\n",
    "custom_gamestate_representation_observation = analyse_gamestate(game.map)\n",
    "\n",
    "# Define a reward - here is a simple example\n",
    "def reward_function(game): return game.map.hexgrid.get_total_victory_points_per_players()\n",
    "\n",
    "# Now ask the AI to produce a list of pending orders\n",
    "pending_orders = my_custom_ai_agent(custom_gamestate_representation_observation)\n",
    "\n",
    "# Run the turn\n",
    "game.run_a_turn(pending_orders)\n",
    "\n",
    "# Evaluate the result\n",
    "result_reward = reward_function(game)"
   ]
  }
 ],
 "metadata": {
  "language_info": {
   "name": "python"
  }
 },
 "nbformat": 4,
 "nbformat_minor": 2
}
