{
 "cells": [
  {
   "cell_type": "markdown",
   "metadata": {},
   "source": [
    "# API example"
   ]
  },
  {
   "cell_type": "markdown",
   "metadata": {},
   "source": [
    "## Creating a game\n",
    "\n",
    "Creating a game and loading a scenario from a YAML file."
   ]
  },
  {
   "cell_type": "code",
   "execution_count": null,
   "metadata": {},
   "outputs": [],
   "source": [
    "from warshard.game import Game\n",
    "\n",
    "game = Game(\n",
    "    headless = True # If false, another thread is launched which displays the gamestate using pygame\n",
    "    log_file_path\n",
    ")"
   ]
  },
  {
   "cell_type": "markdown",
   "metadata": {},
   "source": [
    "## Running a game\n",
    "\n",
    "There are two main ways to run a game : either by running entire turns at once, or individual phases of the turns.\n",
    "\n",
    "The main interface is the Orders list.\n",
    "\n",
    "You create a list of Orders, like this, and then pass them to the turn functions. The game will then attempt to execute the orders.\n",
    "\n",
    "\n",
    "### Order list\n",
    "\n",
    "Explain what an order is, what a putative order is\n",
    "\n",
    "- You can and should give multiple orders fo the same units to be executed in sequence for the movement. For example : if you want to move unit 6 from hex 1,2 to hex 1,5, you need to write three move orders IN THE CORRECT ORDER FOR THE SAME UNIT : \"6 move to 1,3\" then \"6 move to 1,4\" then \"6 move to 1,5\" and those must be IN THE CORRECT ORDER in the pending_orders list, since we execute orders in a FIFO fashion\n",
    "\n",
    "- Putative orders are orders that will only be executed when checking for retreats or advances (after a fight in both case.) Putative orders cover both advance and retreats, and are also FIFO\n",
    "\n",
    "- Orders do not need to be differentiated by type : for instance, an Order will be interpreted a movement if the target hex is empty, or as combat if it contains an enemy."
   ]
  },
  {
   "cell_type": "code",
   "execution_count": null,
   "metadata": {},
   "outputs": [],
   "source": []
  },
  {
   "cell_type": "code",
   "execution_count": null,
   "metadata": {},
   "outputs": [],
   "source": [
    "# In practice, you can set up a google sheet for players to input orders,\n",
    "# read it in csv automatically every X minute, and turn that into order lists\n",
    "\n",
    "import pandas as pd\n",
    "from warshard.actions import Order\n",
    "\n",
    "# Replace with the appropriate URL to your Google Sheets CSV\n",
    "google_sheet_url = \"https://docs.google.com/spreadsheets/d/your-sheet-id/gviz/tq?tqx=out:csv&sheet=Sheet1\"\n",
    "# orders_df = pd.read_csv(google_sheet_url)\n",
    "\n",
    "\n",
    "# Sample data\n",
    "orders_df = pd.DataFrame(\n",
    "    {\n",
    "        \"unit_id\": [101, 102, 103, 104, 105],\n",
    "        \"hex_x\": [1, 3, 5, 7, 9],\n",
    "        \"hex_y\": [4, 6, 8, 1, 3],\n",
    "        \"putative\": [True, False, True, False, True],\n",
    "    }\n",
    ")\n",
    "\n",
    "orders = []\n",
    "for i, row in orders_df.iterrows:\n",
    "    order_type = \"putative\" if row[\"putative\"] else \"regular\"\n",
    "    orders.append(\n",
    "        Order(\n",
    "            unit_id=row[\"unit_id\"],\n",
    "            hex_x=row[\"hex_x\"],\n",
    "            hex_y=row[\"hex_y\"],\n",
    "            order_type=order_type,\n",
    "            map=game.map,\n",
    "        )\n",
    "    )"
   ]
  },
  {
   "cell_type": "markdown",
   "metadata": {},
   "source": [
    "\n",
    "\n",
    "\n",
    "### Example\n",
    "\n",
    "#### Entire turn\n",
    "\n",
    "Show order lists being passed to run a turn\n"
   ]
  },
  {
   "cell_type": "code",
   "execution_count": null,
   "metadata": {},
   "outputs": [],
   "source": [
    "from warshard.actions import Order\n",
    "\n",
    "pending_orders = [\n",
    "    Order(unit_id=1, hex_x=3, hex_y=4, map=game.map),\n",
    "    Order(unit_id=1, hex_x=4, hex_y=4, map=game.map),\n",
    "    # etc.\n",
    "]"
   ]
  },
  {
   "cell_type": "code",
   "execution_count": null,
   "metadata": {},
   "outputs": [],
   "source": [
    "game.run_a_turn(pending_orders)"
   ]
  },
  {
   "cell_type": "markdown",
   "metadata": {},
   "source": [
    "Explain the principle of the orders.\n",
    "\n",
    "Note : here the \"attacker\" designated the active player.\n",
    "\n",
    "Here are the kind of orders that must be given each turn :\n",
    "\n",
    "- Attacker must give movement orders for their units. To move a unit more than one hex, give successive movements orders (ie. a1 to a2, then a2 to a3)\n",
    "- Attacker must also give its attack orders, for both melee and support units\n",
    "- Defender must give its defensive orders for support units.\n",
    "  - In the classical setup (using run_a_turn and not the individual turn phase functions), all orders must be provided at once.  If, in your setup, you allow the defender to see the attacker's order before providing their orders (and then group them all and only then pass them to run_a_turn), they can assign their support in reaction. However, if in your setup you want them to provide orders at once and without having seen the other's orders, the defender needs to anticipate and assign priority. For example, let's say the defender believes that the attacker may attack on hex H1 or hex H2 and has two artillery units. The defender may decide to give both artillery units an order to defend H1 which is to them more important, and then below in the list an order to defend H2. If the attacker attacks H1, the order will be executed. However if the attacker attacks H2 and not H1, the defend order for H1 will be invalid and thus ignored, and the lower-priority order for H2 will be executed. Finally, if the attacker attacks both H1 and H2, both orders are valid, but since the order to defend H1 is higher priority it will be executed and not the one for H2.\n",
    "- Both attacker and defender must provide putative retreats and putative advances. Here too, there is a priority system : orders first in the list will be executed first and any subsequent order will be ignored, so you can for example specify two possible axis of retreat and depending on the outcome of other fights the first valid one will be used"
   ]
  },
  {
   "cell_type": "markdown",
   "metadata": {},
   "source": [
    "\n",
    "#### Individual phases\n",
    "\n",
    "Show order lists being passed to run individual phases.\n",
    "\n",
    "the run_a_turn function does little more than run each of these in order. If you want more granularity, you can. Look at the source code.\n",
    "\n",
    "HOWEVER this will break turn handling logic and will break memorization of order in the game.all_orders_ever_given"
   ]
  },
  {
   "cell_type": "code",
   "execution_count": null,
   "metadata": {},
   "outputs": [],
   "source": []
  },
  {
   "cell_type": "markdown",
   "metadata": {},
   "source": [
    "## Debug\n",
    "\n",
    "Where to look : objects such as game.map give the info you need. You can use this to read the map/gamestate and even modify it, it is accessible\n",
    "\n",
    "Also debug commands to give individual orders, spawn and move units, etc.\n",
    "There are also functions that give individual orders (ie. start a fight here, etc.) so the simulation can be run with granulatiry in  a notebook, as if we were playing.  But in general you want to try to use run_a_turn as much as possible."
   ]
  },
  {
   "cell_type": "code",
   "execution_count": null,
   "metadata": {},
   "outputs": [],
   "source": [
    "game.map"
   ]
  },
  {
   "cell_type": "markdown",
   "metadata": {},
   "source": [
    "## Developing an AI\n",
    "\n",
    "Example of a recommended setup for AI development"
   ]
  },
  {
   "cell_type": "code",
   "execution_count": null,
   "metadata": {},
   "outputs": [],
   "source": [
    "class StupidAI:\n",
    "    \"\"\"Simple example of a stupid AI\"\"\"\n",
    "\n",
    "    def __call__(self, gamestate_representation) -> list[Order]:\n",
    "        raise NotImplementedError\n",
    "        for unit in self.units_i_am_responsible_for:\n",
    "            closest_vp = ...  # Find the closest victory point to my position\n",
    "            my_orders += [...]  # Issue orders in a straight line towards it\n",
    "        return my_orders\n",
    "\n",
    "\n",
    "my_custom_ai_agent = StupidAI()"
   ]
  },
  {
   "cell_type": "code",
   "execution_count": null,
   "metadata": {},
   "outputs": [],
   "source": [
    "# Read the gamestate according to your desires and constraits (what do you allow the AI algorithm to know ? what representation does it need ?)\n",
    "custom_gamestate_representation_observation = analyse_gamestate(game.map)\n",
    "\n",
    "\n",
    "# Define a reward - here is a simple example\n",
    "def reward_function(game):\n",
    "    return game.map.hexgrid.get_total_victory_points_per_players()\n",
    "\n",
    "\n",
    "# Now ask the AI to produce a list of pending orders\n",
    "pending_orders = my_custom_ai_agent(custom_gamestate_representation_observation)\n",
    "\n",
    "# Run the turn\n",
    "game.run_a_turn(pending_orders)\n",
    "\n",
    "# Evaluate the result\n",
    "result_reward = reward_function(game)"
   ]
  }
 ],
 "metadata": {
  "language_info": {
   "name": "python"
  }
 },
 "nbformat": 4,
 "nbformat_minor": 2
}
